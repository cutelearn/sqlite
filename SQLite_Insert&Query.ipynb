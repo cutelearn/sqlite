{
 "cells": [
  {
   "attachments": {},
   "cell_type": "markdown",
   "metadata": {},
   "source": [
    "## 新增 SQLite 資料\n"
   ]
  },
  {
   "cell_type": "code",
   "execution_count": 5,
   "metadata": {},
   "outputs": [
    {
     "name": "stdout",
     "output_type": "stream",
     "text": [
      "請輸入資料庫students表單資料\n"
     ]
    }
   ],
   "source": [
    "import sqlite3\n",
    "conn = sqlite3.connect(\"/app/db/std.db\")\n",
    "print(\"請輸入資料庫students表單資料\")\n",
    "while True:\n",
    "    new_id = float(input(\"請輸入id: \"))\n",
    "    new_name = input(\"請輸入name: \")\n",
    "    new_gender = input(\"請輸入gender: \")\n",
    "    x = (new_id, new_name, new_gender)\n",
    "    sql = '''insert into students values(?,?,?)'''\n",
    "    conn.execute(sql,x)\n",
    "    conn.commit()\n",
    "    again = input(\"繼續(y/n)\")\n",
    "    if again[0].lower() == \"n\":\n",
    "        break\n"
   ]
  },
  {
   "attachments": {},
   "cell_type": "markdown",
   "metadata": {},
   "source": [
    "## 查詢 SQLite 資料"
   ]
  },
  {
   "cell_type": "code",
   "execution_count": 6,
   "metadata": {},
   "outputs": [
    {
     "name": "stdout",
     "output_type": "stream",
     "text": [
      "id = 1\n",
      "name = tom\n",
      "gender = M\n",
      "id = 2\n",
      "name = marry\n",
      "gender = S\n",
      "id = 3\n",
      "name = dora\n",
      "gender = S\n",
      "id = 4\n",
      "name = ryan\n",
      "gender = M\n"
     ]
    }
   ],
   "source": [
    "import sqlite3\n",
    "conn = sqlite3.connect(\"/app/db/std.db\")\n",
    "results = conn.execute(\"SELECT * FROM students\")\n",
    "for record in results:\n",
    "    print(f\"id = {record[0]}\")\n",
    "    print(f\"name = {record[1]}\")\n",
    "    print(f\"gender = {record[2]}\")"
   ]
  },
  {
   "attachments": {},
   "cell_type": "markdown",
   "metadata": {},
   "source": [
    "## 以字組元素方式查詢 SQLite 資料"
   ]
  },
  {
   "cell_type": "code",
   "execution_count": 7,
   "metadata": {},
   "outputs": [
    {
     "name": "stdout",
     "output_type": "stream",
     "text": [
      "(1, 'tom', 'M')\n",
      "(2, 'marry', 'S')\n",
      "(3, 'dora', 'S')\n",
      "(4, 'ryan', 'M')\n"
     ]
    },
    {
     "data": {
      "text/plain": [
       "<function Connection.close()>"
      ]
     },
     "execution_count": 7,
     "metadata": {},
     "output_type": "execute_result"
    }
   ],
   "source": [
    "import sqlite3\n",
    "conn = sqlite3.connect(\"/app/db/std.db\")\n",
    "results = conn.execute(\"SELECT * FROM students\")\n",
    "allstudent = results.fetchall()\n",
    "for student in allstudent:\n",
    "    print(student)\n",
    "conn.close"
   ]
  },
  {
   "attachments": {},
   "cell_type": "markdown",
   "metadata": {},
   "source": [
    "## 查詢 SQLite 資料(續)\n",
    "\n",
    "- 列出name欄位內容\n",
    "- 查詢所有女生的記錄"
   ]
  },
  {
   "cell_type": "code",
   "execution_count": 13,
   "metadata": {},
   "outputs": [
    {
     "name": "stdout",
     "output_type": "stream",
     "text": [
      "('marry',)\n",
      "('dora',)\n"
     ]
    },
    {
     "data": {
      "text/plain": [
       "<function Connection.close()>"
      ]
     },
     "execution_count": 13,
     "metadata": {},
     "output_type": "execute_result"
    }
   ],
   "source": [
    "import sqlite3\n",
    "conn = sqlite3.connect(\"/app/db/std.db\")\n",
    "results = conn.execute(\"SELECT name FROM students WHERE gender like 'S'\")\n",
    "allstudent = results.fetchall()\n",
    "for student in allstudent:\n",
    "    print(student)\n",
    "conn.close"
   ]
  }
 ],
 "metadata": {
  "kernelspec": {
   "display_name": "Python 3",
   "language": "python",
   "name": "python3"
  },
  "language_info": {
   "codemirror_mode": {
    "name": "ipython",
    "version": 3
   },
   "file_extension": ".py",
   "mimetype": "text/x-python",
   "name": "python",
   "nbconvert_exporter": "python",
   "pygments_lexer": "ipython3",
   "version": "3.11.2"
  },
  "orig_nbformat": 4
 },
 "nbformat": 4,
 "nbformat_minor": 2
}
