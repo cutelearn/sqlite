{
 "cells": [
  {
   "attachments": {},
   "cell_type": "markdown",
   "metadata": {},
   "source": [
    "## 新SQLite 資料"
   ]
  },
  {
   "cell_type": "code",
   "execution_count": 1,
   "metadata": {},
   "outputs": [
    {
     "name": "stdout",
     "output_type": "stream",
     "text": [
      "('Tomy',)\n",
      "('marry',)\n",
      "('dora',)\n",
      "('ryan',)\n"
     ]
    }
   ],
   "source": [
    "import sqlite3\n",
    "conn = sqlite3.connect(\"/app/db/std.db\")\n",
    "sql = \"\"\"UPDATE students \n",
    "        set name  = 'Tomy'\n",
    "        Where id = 1\"\"\"\n",
    "results = conn.execute(sql)\n",
    "conn.commit()\n",
    "results = conn.execute(\"SELECT name from students\")\n",
    "allstudents = results.fetchall()\n",
    "for student in allstudents:\n",
    "    print(student)\n",
    "conn.close()\n"
   ]
  },
  {
   "attachments": {},
   "cell_type": "markdown",
   "metadata": {},
   "source": [
    "## 刪除 SQLite 資料"
   ]
  },
  {
   "cell_type": "code",
   "execution_count": 3,
   "metadata": {},
   "outputs": [
    {
     "name": "stdout",
     "output_type": "stream",
     "text": [
      "('Tomy',)\n",
      "('dora',)\n",
      "('ryan',)\n"
     ]
    }
   ],
   "source": [
    "import sqlite3\n",
    "conn = sqlite3.connect(\"/app/db/std.db\")\n",
    "sql = \"\"\"DELETE\n",
    "        from students \n",
    "        Where id = 2\"\"\"\n",
    "results = conn.execute(sql)\n",
    "conn.commit()\n",
    "results = conn.execute(\"SELECT name from students\")\n",
    "allstudents = results.fetchall()\n",
    "for student in allstudents:\n",
    "    print(student)\n",
    "conn.close()"
   ]
  }
 ],
 "metadata": {
  "kernelspec": {
   "display_name": "Python 3",
   "language": "python",
   "name": "python3"
  },
  "language_info": {
   "codemirror_mode": {
    "name": "ipython",
    "version": 3
   },
   "file_extension": ".py",
   "mimetype": "text/x-python",
   "name": "python",
   "nbconvert_exporter": "python",
   "pygments_lexer": "ipython3",
   "version": "3.11.2"
  },
  "orig_nbformat": 4
 },
 "nbformat": 4,
 "nbformat_minor": 2
}
